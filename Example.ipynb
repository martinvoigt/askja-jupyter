{
 "cells": [
  {
   "cell_type": "markdown",
   "metadata": {},
   "source": [
    "# Database examples"
   ]
  },
  {
   "cell_type": "code",
   "execution_count": 1,
   "metadata": {},
   "outputs": [],
   "source": [
    "from IPhreeqcPy import IPhreeqc"
   ]
  },
  {
   "cell_type": "code",
   "execution_count": 2,
   "metadata": {},
   "outputs": [],
   "source": [
    "import urllib.request"
   ]
  },
  {
   "cell_type": "code",
   "execution_count": 3,
   "metadata": {},
   "outputs": [],
   "source": [
    "import pandas as pd"
   ]
  },
  {
   "cell_type": "code",
   "execution_count": 4,
   "metadata": {},
   "outputs": [],
   "source": [
    "import numpy as np"
   ]
  },
  {
   "cell_type": "code",
   "execution_count": 5,
   "metadata": {},
   "outputs": [],
   "source": [
    "p=IPhreeqc()"
   ]
  },
  {
   "cell_type": "code",
   "execution_count": 6,
   "metadata": {},
   "outputs": [
    {
     "data": {
      "text/plain": [
       "('askja.dat', <http.client.HTTPMessage at 0x2046623c708>)"
      ]
     },
     "execution_count": 6,
     "metadata": {},
     "output_type": "execute_result"
    }
   ],
   "source": [
    "urllib.request.urlretrieve('http://scicorner.com/askja/askja.dat', 'askja.dat')"
   ]
  },
  {
   "cell_type": "code",
   "execution_count": 7,
   "metadata": {},
   "outputs": [],
   "source": [
    "p.LoadDatabase('askja.dat')"
   ]
  },
  {
   "cell_type": "markdown",
   "metadata": {},
   "source": [
    "## Seawater speciation"
   ]
  },
  {
   "cell_type": "code",
   "execution_count": 8,
   "metadata": {},
   "outputs": [],
   "source": [
    "p.RunString('''\n",
    "SELECTED_OUTPUT\n",
    "    -reset false\n",
    "    -molalities Na+ NaSO4- NaHCO3 NaCO3-\n",
    "        Mg+2 MgSO4 MgHCO3+ MgCO3\n",
    "        Ca+2 CaSO4 CaHCO3+ CaCO3\n",
    "        K+ KSO4-\n",
    "\n",
    "SOLUTION 1\n",
    "    units mol/kgw\n",
    "    temp 25\n",
    "    pH 8.04\n",
    "    density 1.023\n",
    "    Na 0.4860597\n",
    "    Mg 0.0547421\n",
    "    Ca 0.0106568\n",
    "    K  0.0105797\n",
    "    Cl 0.5657647\n",
    "    S(6) 0.0292643\n",
    "    Alkalinity 0.0023\n",
    "''')"
   ]
  },
  {
   "cell_type": "code",
   "execution_count": 9,
   "metadata": {},
   "outputs": [],
   "source": [
    "res = p.GetSelectedOutputArray()\n",
    "res = pd.DataFrame(pd.Series(data=res[1], index=res[0], name='Conc. / mol/kgw'))\n",
    "res['Element'] = [\n",
    "    'Na', 'Na', 'Na', 'Na',\n",
    "    'Mg', 'Mg', 'Mg', 'Mg',\n",
    "    'Ca', 'Ca', 'Ca', 'Ca',\n",
    "    'K', 'K'\n",
    "]\n",
    "res['Anion'] = [\n",
    "    'Free', 'Sulfate', 'Bicarbonate', 'Carbonate',\n",
    "    'Free', 'Sulfate', 'Bicarbonate', 'Carbonate',\n",
    "    'Free', 'Sulfate', 'Bicarbonate', 'Carbonate',\n",
    "    'Free', 'Sulfate'\n",
    "]"
   ]
  },
  {
   "cell_type": "code",
   "execution_count": 10,
   "metadata": {},
   "outputs": [],
   "source": [
    "totals = res.groupby('Element')['Conc. / mol/kgw'].sum()"
   ]
  },
  {
   "cell_type": "code",
   "execution_count": 11,
   "metadata": {},
   "outputs": [],
   "source": [
    "res['Rel. conc / %'] = res.apply(lambda x: x['Conc. / mol/kgw'] / totals[x['Element']] * 100, axis=1)"
   ]
  },
  {
   "cell_type": "code",
   "execution_count": 12,
   "metadata": {
    "Collapsed": "false"
   },
   "outputs": [
    {
     "data": {
      "text/html": [
       "<div>\n",
       "<style scoped>\n",
       "    .dataframe tbody tr th:only-of-type {\n",
       "        vertical-align: middle;\n",
       "    }\n",
       "\n",
       "    .dataframe tbody tr th {\n",
       "        vertical-align: top;\n",
       "    }\n",
       "\n",
       "    .dataframe thead th {\n",
       "        text-align: right;\n",
       "    }\n",
       "</style>\n",
       "<table border=\"1\" class=\"dataframe\">\n",
       "  <thead>\n",
       "    <tr style=\"text-align: right;\">\n",
       "      <th>Anion</th>\n",
       "      <th>Bicarbonate</th>\n",
       "      <th>Carbonate</th>\n",
       "      <th>Free</th>\n",
       "      <th>Sulfate</th>\n",
       "    </tr>\n",
       "    <tr>\n",
       "      <th>Element</th>\n",
       "      <th></th>\n",
       "      <th></th>\n",
       "      <th></th>\n",
       "      <th></th>\n",
       "    </tr>\n",
       "  </thead>\n",
       "  <tbody>\n",
       "    <tr>\n",
       "      <th>Ca</th>\n",
       "      <td>0.343991</td>\n",
       "      <td>0.215973</td>\n",
       "      <td>90.556968</td>\n",
       "      <td>8.883069</td>\n",
       "    </tr>\n",
       "    <tr>\n",
       "      <th>K</th>\n",
       "      <td>NaN</td>\n",
       "      <td>NaN</td>\n",
       "      <td>97.903093</td>\n",
       "      <td>2.096907</td>\n",
       "    </tr>\n",
       "    <tr>\n",
       "      <th>Mg</th>\n",
       "      <td>0.498011</td>\n",
       "      <td>0.155163</td>\n",
       "      <td>85.395770</td>\n",
       "      <td>13.951056</td>\n",
       "    </tr>\n",
       "    <tr>\n",
       "      <th>Na</th>\n",
       "      <td>0.049093</td>\n",
       "      <td>0.005979</td>\n",
       "      <td>98.449625</td>\n",
       "      <td>1.495304</td>\n",
       "    </tr>\n",
       "  </tbody>\n",
       "</table>\n",
       "</div>"
      ],
      "text/plain": [
       "Anion    Bicarbonate  Carbonate       Free    Sulfate\n",
       "Element                                              \n",
       "Ca          0.343991   0.215973  90.556968   8.883069\n",
       "K                NaN        NaN  97.903093   2.096907\n",
       "Mg          0.498011   0.155163  85.395770  13.951056\n",
       "Na          0.049093   0.005979  98.449625   1.495304"
      ]
     },
     "execution_count": 12,
     "metadata": {},
     "output_type": "execute_result"
    }
   ],
   "source": [
    "pivot = res.pivot(index='Element', columns='Anion', values='Rel. conc / %')\n",
    "pivot"
   ]
  },
  {
   "cell_type": "code",
   "execution_count": 13,
   "metadata": {},
   "outputs": [
    {
     "data": {
      "text/plain": [
       "<matplotlib.axes._subplots.AxesSubplot at 0x204662e5ec8>"
      ]
     },
     "execution_count": 13,
     "metadata": {},
     "output_type": "execute_result"
    },
    {
     "data": {
      "image/png": "[encoded data removed]",
      "text/plain": [
       "<Figure size 864x576 with 1 Axes>"
      ]
     },
     "metadata": {
      "needs_background": "light"
     },
     "output_type": "display_data"
    }
   ],
   "source": [
    "pivot.plot.bar(stacked=True)"
   ]
  }
 ],
 "metadata": {
  "kernelspec": {
   "display_name": "Python 3",
   "language": "python",
   "name": "python3"
  },
  "language_info": {
   "codemirror_mode": {
    "name": "ipython",
    "version": 3
   },
   "file_extension": ".py",
   "mimetype": "text/x-python",
   "name": "python",
   "nbconvert_exporter": "python",
   "pygments_lexer": "ipython3",
   "version": "3.7.6"
  }
 },
 "nbformat": 4,
 "nbformat_minor": 4
}
